{
 "cells": [
  {
   "cell_type": "code",
   "execution_count": 1,
   "metadata": {},
   "outputs": [],
   "source": [
    "import os"
   ]
  },
  {
   "cell_type": "code",
   "execution_count": 2,
   "metadata": {},
   "outputs": [],
   "source": [
    "all_labels = os.listdir(\"res/exp2/labels/\")"
   ]
  },
  {
   "cell_type": "code",
   "execution_count": 3,
   "metadata": {},
   "outputs": [
    {
     "data": {
      "text/plain": [
       "45873"
      ]
     },
     "execution_count": 3,
     "metadata": {},
     "output_type": "execute_result"
    }
   ],
   "source": [
    "len(all_labels)"
   ]
  },
  {
   "cell_type": "code",
   "execution_count": 4,
   "metadata": {},
   "outputs": [],
   "source": [
    "all_files_right = os.listdir(\"../HW1_dataset/tool_usage/tools_right/\")\n",
    "all_files_left = os.listdir(\"../HW1_dataset/tool_usage/tools_left/\")\n",
    "\n",
    "tool_usage ={\"no tool in hand\" : \"T0\",\n",
    " \"needle_driver\": \"T1\",\n",
    " \"forceps\": \"T2\",\n",
    " \"scissors\":\"T3\"}\n",
    "\n",
    "tool_usage2 = {y:x for x,y in tool_usage.items()}"
   ]
  },
  {
   "cell_type": "code",
   "execution_count": 5,
   "metadata": {},
   "outputs": [],
   "source": [
    "names = [\"Right_Scissors\",\n",
    "\"Left_Scissors\",\n",
    "\"Right_Needle_driver\",\n",
    "\"Left_Needle_driver\",\n",
    "\"Right_Forceps\",\n",
    "\"Left_Forceps\",\n",
    "\"Right_Empty\",\n",
    "\"Left_Empty\"]"
   ]
  },
  {
   "cell_type": "code",
   "execution_count": 6,
   "metadata": {},
   "outputs": [],
   "source": [
    "map_name_tool = {\"Right_Scissors\":\"scissors\",\"Left_Scissors\":\"scissors\",\"Right_Needle_driver\":\"needle_driver\",\"Left_Needle_driver\":\"needle_driver\",\n",
    "                 \"Right_Forceps\":\"forceps\",\"Left_Forceps\":\"forceps\",\"Right_Empty\":\"no tool in hand\",\"Left_Empty\":\"no tool in hand\"}"
   ]
  },
  {
   "cell_type": "code",
   "execution_count": 7,
   "metadata": {},
   "outputs": [],
   "source": [
    "acc = 0\n",
    "dict_for_classes = {\"no tool in hand\":[0,0,0,0],\"needle_driver\":[0,0,0,0],\"forceps\":[0,0,0,0],\"scissors\":[0,0,0,0]}\n",
    "map_temp = {\"no tool in hand\":0,\"needle_driver\":1,\"forceps\":2,\"scissors\":3}"
   ]
  },
  {
   "cell_type": "code",
   "execution_count": null,
   "metadata": {},
   "outputs": [],
   "source": []
  },
  {
   "cell_type": "code",
   "execution_count": 8,
   "metadata": {},
   "outputs": [],
   "source": [
    "for file_label in all_labels:\n",
    "    try:\n",
    "        f_label = open(\"res/exp2/labels/\"+file_label, \"r\")\n",
    "        lines = (f_label.readlines())\n",
    "        tool_r = int(lines[0].split()[0])\n",
    "        tool_l = int(lines[1].split()[0])\n",
    "        pred_tools = map_name_tool[names[tool_r]],map_name_tool[names[tool_l]]\n",
    "        #print(pred_tools)\n",
    "        name_parts = file_label.split(\".\")[0].split(\"_\")\n",
    "        file_name = '_'.join(name_parts[:2])\n",
    "        \n",
    "        frame = int(name_parts[2])\n",
    "\n",
    "        f_right = open(\"../HW1_dataset/tool_usage/tools_right/\"+file_name+\".txt\", \"r\")\n",
    "        f_left = open(\"../HW1_dataset/tool_usage/tools_left/\"+file_name+\".txt\", \"r\")\n",
    "        r_lines = f_right.readlines()\n",
    "        l_lines = f_left.readlines()\n",
    "        r_time_tool = {}\n",
    "        for line in r_lines:\n",
    "            data = line.split()\n",
    "            for i in range(int(data[0]),int(data[1])+1):\n",
    "                r_time_tool[i] = tool_usage2[data[2]]\n",
    "        l_time_tool = {}\n",
    "        for line in l_lines:\n",
    "            data = line.split()\n",
    "            for i in range(int(data[0]),int(data[1])+1):\n",
    "                l_time_tool[i] = tool_usage2[data[2]]\n",
    "\n",
    "        if r_time_tool[frame-1] == pred_tools[0]:\n",
    "            acc += 1\n",
    "        c = map_temp[pred_tools[0]]\n",
    "        dict_for_classes[r_time_tool[frame-1]][c] += 1\n",
    "        \n",
    "        if l_time_tool[frame-1] == pred_tools[1]:\n",
    "            acc += 1\n",
    "        c = map_temp[pred_tools[1]]\n",
    "        dict_for_classes[l_time_tool[frame-1]][c] += 1\n",
    "    except:\n",
    "        pass"
   ]
  },
  {
   "cell_type": "code",
   "execution_count": 11,
   "metadata": {},
   "outputs": [],
   "source": [
    "total = len(all_labels)"
   ]
  },
  {
   "cell_type": "code",
   "execution_count": 15,
   "metadata": {},
   "outputs": [
    {
     "name": "stdout",
     "output_type": "stream",
     "text": [
      "accuracy: 0.5235541603993634\n"
     ]
    }
   ],
   "source": [
    "print(\"accuracy:\" ,acc/(total*2))"
   ]
  },
  {
   "cell_type": "code",
   "execution_count": 19,
   "metadata": {},
   "outputs": [
    {
     "data": {
      "text/plain": [
       "{'no tool in hand': [19607, 8850, 746, 3452],\n",
       " 'needle_driver': [9868, 19641, 7710, 2092],\n",
       " 'forceps': [745, 7408, 7053, 505],\n",
       " 'scissors': [1729, 132, 75, 1733]}"
      ]
     },
     "execution_count": 19,
     "metadata": {},
     "output_type": "execute_result"
    }
   ],
   "source": [
    "dict_for_classes"
   ]
  },
  {
   "cell_type": "code",
   "execution_count": 21,
   "metadata": {},
   "outputs": [
    {
     "name": "stdout",
     "output_type": "stream",
     "text": [
      "precision for class  no tool in hand 0.6004287245444802\n",
      "precision for class  needle_driver 0.49963114649843554\n",
      "precision for class  forceps 0.44892113805613904\n",
      "precision for class  scissors 0.47233578631779777\n"
     ]
    }
   ],
   "source": [
    "index = 0\n",
    "p_all = []\n",
    "for key,value in dict_for_classes.items():\n",
    "    p = value[index]/sum(value)\n",
    "    print(\"precision for class \",key,p)\n",
    "    index +=1\n",
    "    p_all.append(p)"
   ]
  },
  {
   "cell_type": "code",
   "execution_count": 22,
   "metadata": {},
   "outputs": [
    {
     "name": "stdout",
     "output_type": "stream",
     "text": [
      "0.6136968293217315\n",
      "0.5451139296716716\n",
      "0.45257956878850103\n",
      "0.22269339501413518\n"
     ]
    }
   ],
   "source": [
    "index = 0\n",
    "r_all = []\n",
    "for key,value in dict_for_classes.items():\n",
    "    total_temp = 0\n",
    "    for key2,value2 in dict_for_classes.items():\n",
    "        total_temp += value2[index]\n",
    "    r = value[index]/total_temp\n",
    "    print(r)\n",
    "    index += 1\n",
    "    r_all.append(r)"
   ]
  },
  {
   "cell_type": "code",
   "execution_count": 25,
   "metadata": {},
   "outputs": [
    {
     "name": "stdout",
     "output_type": "stream",
     "text": [
      "0.6069902792396755\n",
      "0.521382495819065\n",
      "0.45074293018054\n",
      "0.3026809885599511\n"
     ]
    }
   ],
   "source": [
    "total2 = 0\n",
    "for index in range(4):\n",
    "    print((2*p_all[index]*r_all[index])/(p_all[index]+r_all[index]))\n",
    "    total2 += (2*p_all[index]*r_all[index])/(p_all[index]+r_all[index])"
   ]
  },
  {
   "cell_type": "code",
   "execution_count": 26,
   "metadata": {},
   "outputs": [
    {
     "data": {
      "text/plain": [
       "0.4704491734498079"
      ]
     },
     "execution_count": 26,
     "metadata": {},
     "output_type": "execute_result"
    }
   ],
   "source": [
    "total2/4"
   ]
  }
 ],
 "metadata": {
  "kernelspec": {
   "display_name": "cvop2",
   "language": "python",
   "name": "python3"
  },
  "language_info": {
   "codemirror_mode": {
    "name": "ipython",
    "version": 3
   },
   "file_extension": ".py",
   "mimetype": "text/x-python",
   "name": "python",
   "nbconvert_exporter": "python",
   "pygments_lexer": "ipython3",
   "version": "3.9.15"
  },
  "orig_nbformat": 4,
  "vscode": {
   "interpreter": {
    "hash": "c7e007be41deaf0e165c24baf39ae16c692c5f9ef2eee9584973215c4ee3bfef"
   }
  }
 },
 "nbformat": 4,
 "nbformat_minor": 2
}
